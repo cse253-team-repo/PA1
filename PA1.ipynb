{
 "cells": [
  {
   "cell_type": "code",
   "execution_count": 1,
   "metadata": {},
   "outputs": [
    {
     "name": "stdout",
     "output_type": "stream",
     "text": "Emotions: ['fear', 'surprise', 'sadness', 'happiness', 'anger', 'disgust'] \n\nfear: 25 # of images\nsurprise: 83 # of images\nsadness: 28 # of images\nhappiness: 69 # of images\nanger: 45 # of images\ndisgust: 59 # of images\n\nBalanced Set:\nhappiness: 45 # of images\nanger: 45 # of images\nConverting from array to PIL Image\n"
    }
   ],
   "source": [
    "################################################################################\n",
    "# CSE 253: Programming Assignment 1\n",
    "# Code snippet by Michael\n",
    "# Winter 2020\n",
    "################################################################################\n",
    "# We've provided you with the dataset in PA1.zip\n",
    "################################################################################\n",
    "# To install PIL, refer to the instructions for your system:\n",
    "# https://pillow.readthedocs.io/en/5.2.x/installation.html\n",
    "################################################################################\n",
    "# If you don't have NumPy installed, please use the instructions here:\n",
    "# https://scipy.org/install.html\n",
    "################################################################################\n",
    "\n",
    "from os import listdir\n",
    "import os, random, copy\n",
    "from PIL import Image\n",
    "import numpy as np\n",
    "from collections import defaultdict\n",
    "\n",
    "\n",
    "''' \n",
    "list of face expressions (contempt, neutral are excluded) are:\n",
    "1. anger\n",
    "2. disgust\n",
    "3. fear\n",
    "4. happiness\n",
    "5. sadness\n",
    "6. surprise\n",
    "'''\n",
    "\n",
    "def load_data(data_dir=\"./aligned/\"):\n",
    "\t\"\"\" Load all PNG images stored in your data directory into a list of NumPy\n",
    "\tarrays.\n",
    "\n",
    "\tArgs:\n",
    "\t\tdata_dir: The relative directory path to the CK+ image directory.\n",
    "\tReturns:\n",
    "\t\timages: A dictionary with keys as emotions and a list containing images associated with each key.\n",
    "\t\tcnt: A dictionary that stores the # of images in each emotion\n",
    "\t\"\"\"\n",
    "\timages = defaultdict(list)\n",
    "\n",
    "\t# Get the list of emotional directory:\n",
    "\tfor e in listdir(data_dir):\n",
    "\t\t# excluding any non-directory files\n",
    "\t\tif not os.path.isdir(os.path.join(data_dir, e)):\n",
    "\t\t\tcontinue\n",
    "\t\t# Get the list of image file names\n",
    "\t\tall_files = listdir(os.path.join(data_dir, e))\n",
    "\n",
    "\t\tfor file in all_files:\n",
    "\t\t\t# Load only image files as PIL images and convert to NumPy arrays\n",
    "\t\t\tif '.png' in file:\n",
    "\t\t\t\timg = Image.open(os.path.join(data_dir, e, file))\n",
    "\t\t\t\timages[e].append(np.array(img))\n",
    "\n",
    "\tprint(\"Emotions: {} \\n\".format(list(images.keys())))\n",
    "\n",
    "\tcnt = defaultdict(int)\n",
    "\tfor e in images.keys():\n",
    "\t\tprint(\"{}: {} # of images\".format(e, len(images[e])))\n",
    "\t\tcnt[e] = len(images[e])\n",
    "\treturn images, cnt\n",
    "\n",
    "def balanced_sampler(dataset, cnt, emotions):\n",
    "\t# this ensures everyone has the same balanced subset for model training, don't change this seed value\n",
    "\trandom.seed(20)\n",
    "\tprint(\"\\nBalanced Set:\")\n",
    "\tmin_cnt = min([cnt[e] for e in emotions])\n",
    "\tbalanced_subset = defaultdict(list)\n",
    "\tfor e in emotions:\n",
    "\t\tbalanced_subset[e] = copy.deepcopy(dataset[e])\n",
    "\t\trandom.shuffle(balanced_subset[e])\n",
    "\t\tbalanced_subset[e] = balanced_subset[e][:min_cnt]\n",
    "\t\tprint('{}: {} # of images'.format(e, len(balanced_subset[e])))\n",
    "\treturn balanced_subset\n",
    "\n",
    "def display_face(img):\n",
    "\t\"\"\" Display the input image and optionally save as a PNG.\n",
    "\n",
    "\tArgs:\n",
    "\t\timg: The NumPy array or image to display\n",
    "\n",
    "\tReturns: None\n",
    "\t\"\"\"\n",
    "\t# Convert img to PIL Image object (if it's an ndarray)\n",
    "\tif type(img) == np.ndarray:\n",
    "\t\tprint(\"Converting from array to PIL Image\")\n",
    "\t\timg = Image.fromarray(img)\n",
    "\n",
    "\t# Display the image\n",
    "\timg.show()\n",
    "\n",
    "\n",
    "# example on how to use it\n",
    "if __name__ == '__main__':\n",
    "\t# The relative path to your image directory\n",
    "\tdata_dir = \"./aligned/\"\n",
    "\tdataset, cnt = load_data(data_dir)\n",
    "\t# test with happiness and anger\n",
    "\timages = balanced_sampler(dataset, cnt, emotions=['happiness', 'anger'])\n",
    "\tdisplay_index = 0\n",
    "\tdisplay_face(images['happiness'][display_index])"
   ]
  },
  {
   "cell_type": "code",
   "execution_count": 14,
   "metadata": {},
   "outputs": [
    {
     "name": "stdout",
     "output_type": "stream",
     "text": "Emotions: ['fear', 'surprise', 'sadness', 'happiness', 'anger', 'disgust'] \n\nfear: 25 # of images\nsurprise: 83 # of images\nsadness: 28 # of images\nhappiness: 69 # of images\nanger: 45 # of images\ndisgust: 59 # of images\n\nBalanced Set:\nhappiness: 45 # of images\nanger: 45 # of images\n"
    },
    {
     "data": {
      "text/plain": "90"
     },
     "execution_count": 14,
     "metadata": {},
     "output_type": "execute_result"
    }
   ],
   "source": [
    "###\n",
    "\n",
    "data_dir = \"./aligned/\"\n",
    "dataset, cnt = load_data(data_dir)\n",
    "images = balanced_sampler(dataset, cnt, emotions=['happiness', 'anger'])\n",
    "image_list = []\n",
    "label_list = []\n",
    "\n",
    "for k in images.keys():\n",
    "    image_list = image_list + [i.flatten() for i in images[k]]\n",
    "    label_list = label_list + [k] * len(images[k])"
   ]
  },
  {
   "cell_type": "code",
   "execution_count": 20,
   "metadata": {},
   "outputs": [],
   "source": [
    "###\n",
    "\n",
    "image_matrix = np.matrix(image_list)\n",
    "average_face = np.mean(image_list, axis=0)\n",
    "centered_faces = image_matrix - average_face"
   ]
  },
  {
   "cell_type": "code",
   "execution_count": 46,
   "metadata": {},
   "outputs": [],
   "source": [
    "###\n",
    "\n",
    "A_T = centered_faces\n",
    "A = A_T.T\n",
    "\n",
    "eigenvalues, eigenvectors = np.linalg.eig(np.dot(A_T, A) / len(centered_faces))"
   ]
  },
  {
   "cell_type": "code",
   "execution_count": 47,
   "metadata": {},
   "outputs": [],
   "source": [
    "###\n",
    "\n",
    "temp1 = np.dot(A, eigenvectors[:, 0]).flatten().A1\n",
    "temp2 = []\n",
    "for i in range(len(centered_faces)):\n",
    "    temp2.append(np.dot(centered_faces[i].flatten(), temp1) / np.linalg.norm(temp1))"
   ]
  },
  {
   "cell_type": "code",
   "execution_count": 48,
   "metadata": {},
   "outputs": [
    {
     "data": {
      "text/plain": "6.063298011819522e-14"
     },
     "execution_count": 48,
     "metadata": {},
     "output_type": "execute_result"
    }
   ],
   "source": [
    "###\n",
    "\n",
    "np.mean(temp2)"
   ]
  },
  {
   "cell_type": "code",
   "execution_count": 49,
   "metadata": {},
   "outputs": [
    {
     "data": {
      "text/plain": "7167.627600644913"
     },
     "execution_count": 49,
     "metadata": {},
     "output_type": "execute_result"
    }
   ],
   "source": [
    "###\n",
    "\n",
    "np.std(temp2)"
   ]
  },
  {
   "cell_type": "code",
   "execution_count": 50,
   "metadata": {},
   "outputs": [
    {
     "data": {
      "text/plain": "7167.627600644913"
     },
     "execution_count": 50,
     "metadata": {},
     "output_type": "execute_result"
    }
   ],
   "source": [
    "###\n",
    "\n",
    "np.sqrt(eigenvalues[0])"
   ]
  },
  {
   "cell_type": "code",
   "execution_count": 88,
   "metadata": {},
   "outputs": [
    {
     "name": "stdout",
     "output_type": "stream",
     "text": [
      "Converting from array to PIL Image\n",
      "Converting from array to PIL Image\n",
      "Converting from array to PIL Image\n",
      "Converting from array to PIL Image\n",
      "Converting from array to PIL Image\n",
      "Converting from array to PIL Image\n",
      "Converting from array to PIL Image\n",
      "Converting from array to PIL Image\n",
      "Converting from array to PIL Image\n",
      "Converting from array to PIL Image\n",
      "Converting from array to PIL Image\n",
      "Converting from array to PIL Image\n",
      "Converting from array to PIL Image\n",
      "Converting from array to PIL Image\n",
      "Converting from array to PIL Image\n",
      "Converting from array to PIL Image\n",
      "Converting from array to PIL Image\n",
      "Converting from array to PIL Image\n",
      "Converting from array to PIL Image\n",
      "Converting from array to PIL Image\n",
      "Converting from array to PIL Image\n",
      "Converting from array to PIL Image\n",
      "Converting from array to PIL Image\n",
      "Converting from array to PIL Image\n",
      "Converting from array to PIL Image\n",
      "Converting from array to PIL Image\n",
      "Converting from array to PIL Image\n",
      "Converting from array to PIL Image\n",
      "Converting from array to PIL Image\n",
      "Converting from array to PIL Image\n",
      "Converting from array to PIL Image\n",
      "Converting from array to PIL Image\n",
      "Converting from array to PIL Image\n",
      "Converting from array to PIL Image\n",
      "Converting from array to PIL Image\n",
      "Converting from array to PIL Image\n",
      "Converting from array to PIL Image\n",
      "Converting from array to PIL Image\n",
      "Converting from array to PIL Image\n",
      "Converting from array to PIL Image\n",
      "Converting from array to PIL Image\n",
      "Converting from array to PIL Image\n",
      "Converting from array to PIL Image\n",
      "Converting from array to PIL Image\n",
      "Converting from array to PIL Image\n",
      "Converting from array to PIL Image\n",
      "Converting from array to PIL Image\n",
      "Converting from array to PIL Image\n",
      "Converting from array to PIL Image\n",
      "Converting from array to PIL Image\n",
      "Converting from array to PIL Image\n",
      "Converting from array to PIL Image\n",
      "Converting from array to PIL Image\n",
      "Converting from array to PIL Image\n",
      "Converting from array to PIL Image\n",
      "Converting from array to PIL Image\n",
      "Converting from array to PIL Image\n",
      "Converting from array to PIL Image\n",
      "Converting from array to PIL Image\n",
      "Converting from array to PIL Image\n",
      "Converting from array to PIL Image\n",
      "Converting from array to PIL Image\n",
      "Converting from array to PIL Image\n",
      "Converting from array to PIL Image\n",
      "Converting from array to PIL Image\n",
      "Converting from array to PIL Image\n",
      "Converting from array to PIL Image\n",
      "Converting from array to PIL Image\n",
      "Converting from array to PIL Image\n",
      "Converting from array to PIL Image\n",
      "Converting from array to PIL Image\n",
      "Converting from array to PIL Image\n",
      "Converting from array to PIL Image\n",
      "Converting from array to PIL Image\n",
      "Converting from array to PIL Image\n",
      "Converting from array to PIL Image\n",
      "Converting from array to PIL Image\n",
      "Converting from array to PIL Image\n",
      "Converting from array to PIL Image\n",
      "Converting from array to PIL Image\n",
      "Converting from array to PIL Image\n",
      "Converting from array to PIL Image\n",
      "Converting from array to PIL Image\n",
      "Converting from array to PIL Image\n",
      "Converting from array to PIL Image\n",
      "Converting from array to PIL Image\n",
      "Converting from array to PIL Image\n",
      "Converting from array to PIL Image\n",
      "Converting from array to PIL Image\n",
      "Converting from array to PIL Image\n"
     ]
    }
   ],
   "source": [
    "for i in range(len(processed_faces)):\n",
    "    display_face(eigenvectors[i].A1.reshape((224, 192)))"
   ]
  },
  {
   "cell_type": "code",
   "execution_count": null,
   "metadata": {},
   "outputs": [],
   "source": []
  }
 ],
 "metadata": {
  "kernelspec": {
   "display_name": "Python 3",
   "language": "python",
   "name": "python3"
  },
  "language_info": {
   "codemirror_mode": {
    "name": "ipython",
    "version": 3
   },
   "file_extension": ".py",
   "mimetype": "text/x-python",
   "name": "python",
   "nbconvert_exporter": "python",
   "pygments_lexer": "ipython3",
   "version": "3.7.3-final"
  }
 },
 "nbformat": 4,
 "nbformat_minor": 2
}